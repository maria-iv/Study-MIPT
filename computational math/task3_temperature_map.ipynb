{
 "cells": [
  {
   "cell_type": "code",
   "execution_count": 1,
   "metadata": {},
   "outputs": [],
   "source": [
    "import numpy as np\n",
    "import matplotlib\n",
    "import math\n",
    "from matplotlib import pylab as plt\n",
    "import pandas as pd\n",
    "import scipy\n",
    "from tqdm import tqdm,tqdm_notebook\n"
   ]
  },
  {
   "cell_type": "code",
   "execution_count": 10,
   "metadata": {},
   "outputs": [],
   "source": [
    "NUMBER_X = 100\n",
    "NUMBER_Y = 100\n",
    "X_MAX = NUMBER_X\n",
    "Y_MAX = NUMBER_Y\n",
    "X_STEP = 1\n",
    "Y_STEP = 1\n",
    "X_FACE = X_STEP\n",
    "Y_FACE = Y_STEP\n",
    "\n",
    "AREA_PART = 0.2\n",
    "AREAS_X = int(AREA_PART*NUMBER_X)\n",
    "AREAS_Y = int(AREA_PART*NUMBER_Y)\n",
    "\n",
    "X_1 = AREAS_X\n",
    "X_2 = X_MAX - AREAS_X\n",
    "X_M = X_MAX\n",
    "\n",
    "Y_1 = AREAS_Y\n",
    "Y_2 = Y_MAX - AREAS_Y\n",
    "Y_M = Y_MAX\n",
    "\n",
    "x_set = np.arange(0, X_MAX, X_STEP)\n",
    "y_set = np.arange(0, Y_MAX, Y_STEP)\n",
    "\n",
    "temp = np.zeros((len(x_set), len(y_set)))\n",
    "lambda_set = np.ones((len(x_set), len(y_set)))\n",
    "source_c = np.zeros((len(x_set), len(y_set)))\n",
    "source_p = np.zeros((len(x_set), len(y_set)))\n",
    "\n"
   ]
  },
  {
   "cell_type": "code",
   "execution_count": 11,
   "metadata": {},
   "outputs": [],
   "source": [
    "def heatmap2d(arr: np.ndarray, interpolation=None):\n",
    "    fig = plt.figure(figsize = (10,10))\n",
    "    plt.imshow(arr.T, cmap='magma', interpolation=None)\n",
    "    plt.colorbar()\n",
    "    plt.xlabel('x')\n",
    "    plt.ylabel('y')\n",
    "    plt.title('Temperature map')\n",
    "    \n",
    "    ax = plt.gca()\n",
    "    ax.invert_yaxis()\n",
    "\n",
    "#Кружочек\n",
    "# @lru_cache(maxsize=None)\n",
    "def create_circular_mask(h, w, radius):\n",
    "    center = [int(h/2), int(w/2)]\n",
    "    X, Y = np.ogrid[:h, :w]\n",
    "    dist_from_center = np.sqrt((X - center[0])**2 + (Y-center[1])**2)\n",
    "\n",
    "    mask = dist_from_center <= radius\n",
    "    return mask"
   ]
  },
  {
   "cell_type": "code",
   "execution_count": 12,
   "metadata": {},
   "outputs": [],
   "source": [
    "#Константы температуры и потока\n",
    "\n",
    "T_ZERO = 0\n",
    "T_INNER_1 = 100\n",
    "T_INNER_2 = 120\n",
    "T_AREA_1 = 150\n",
    "T_CIRCLE = 150\n",
    "T_LEFT = 100\n",
    "T_RIGHT = 100\n",
    "T_UP = 100\n",
    "T_LOW = T_ZERO\n",
    "T_INNER = 50\n",
    "\n",
    "LAMBDA_ZERO = 10**(-20)\n",
    "\n",
    "Q_ZERO = 0 #слева, справа, снизу, в областях 1 и 3\n",
    "Q_AREA_4 = 500\n",
    "Q_UP = 5*LAMBDA_ZERO*10**(1)\n",
    "\n",
    "LAMBDA_INF = 10**20\n",
    "LAMBDA_CIRCLE = 10**15\n",
    "\n",
    "M = 10**20\n",
    "\n",
    "RADIUS = int(AREA_PART*NUMBER_X)\n",
    "\n"
   ]
  },
  {
   "cell_type": "code",
   "execution_count": 13,
   "metadata": {},
   "outputs": [],
   "source": [
    "#Задание внутренних граничных условий\n",
    "lambda_set = np.ones((len(x_set), len(y_set)))\n",
    "#area 3 (X_2:X_M, 0:Y_1)\n",
    "lambda_set[X_2 + 1:X_M, 0:Y_1  - 1] = LAMBDA_ZERO\n",
    "\n",
    "#area 1 (X_2:X_M, Y_2:Y_M)\n",
    "lambda_set[X_2:X_M, Y_2:Y_M] = LAMBDA_INF\n",
    "\n",
    "#area 2 (circle)\n",
    "mask_circle = create_circular_mask(X_MAX, Y_MAX,RADIUS)\n",
    "lambda_set[mask_circle] = LAMBDA_CIRCLE\n",
    "source_p[mask_circle] = M \n",
    "source_c[mask_circle] = M*T_CIRCLE \n",
    "\n",
    "#area 4 (0:X_1, 0:Y_1)\n",
    "lambda_set[0:X_1 - 1, 0:Y_1 - 1] = LAMBDA_ZERO\n",
    "source_c[0:X_1 + 1, 0:Y_1 + 1] = 2*Q_AREA_4/X_STEP\n",
    "source_p[0:X_1 + 1, 0:Y_1 + 1] = 2*Q_AREA_4/X_STEP\n",
    "\n",
    "#area 5 (0:X_1, Y_2:Y_M)\n",
    "lambda_set[0:X_1 - 1, Y_2 + 1:Y_M] = LAMBDA_ZERO\n",
    "source_c[X_1 + 1, Y_2:Y_M] = 2*lambda_set[X_1 + 1, Y_2:Y_M]*T_INNER_2/X_STEP\n",
    "source_p[X_1 + 1, Y_2:Y_M] = 2*lambda_set[X_1 + 1, Y_2:Y_M]/X_STEP\n",
    "source_c[0:X_1, Y_2 - 1] = 2*lambda_set[0:X_1, Y_2 - 1]*T_INNER_1/X_STEP\n",
    "source_p[0:X_1, Y_2 - 1] = 2*lambda_set[0:X_1, Y_2 - 1]/X_STEP\n",
    "\n",
    "lambda_set[X_1:X_2, Y_M  - 1] = 1"
   ]
  },
  {
   "cell_type": "code",
   "execution_count": 14,
   "metadata": {},
   "outputs": [],
   "source": [
    "#heatmap2d(lambda_set)"
   ]
  },
  {
   "cell_type": "code",
   "execution_count": 15,
   "metadata": {},
   "outputs": [],
   "source": [
    "def coef_calc(alpha, betha, kind, lambds, t, t_up, t_low, s_c, s_p, lambds_up, lambds_low):\n",
    "    #lambds - лямбды на оси неизвестных, lambds_up & lambds_low - лямбды выше и ниже (справа и слева)\n",
    "    if kind == 'long':\n",
    "        size_x = X_STEP\n",
    "        size_y = Y_STEP\n",
    "        \n",
    "    elif kind == 'trans':\n",
    "        size_x = Y_STEP\n",
    "        size_y = X_STEP\n",
    "        \n",
    "    with np.errstate(divide='ignore', invalid='ignore'):\n",
    "        a = np.roll(lambds, 1) / (np.roll(lambds, 1) + lambds) / size_x ** 2\n",
    "        b = np.roll(lambds, -1) / (np.roll(lambds, -1) + lambds) / size_x ** 2             \n",
    "        c = (((np.roll(lambds, -1) + np.roll(lambds, 1)) * lambds + \n",
    "            2 * np.roll(lambds, -1) * np.roll(lambds, 1)) /\n",
    "            (np.roll(lambds, -1) + lambds) / (np.roll(lambds, 1) + lambds) / size_x ** 2 + \n",
    "            ((lambds_up + lambds_low) * lambds + 2 * lambds_up * lambds_low) / (lambds_up + lambds) / \n",
    "            (lambds_low + lambds) / size_y ** 2 + s_p / (2 * lambds)) \n",
    "        d = (lambds_up / (lambds_up + lambds)* t_up / size_y ** 2 + lambds_low/ \n",
    "            (lambds_low + lambds)* t_low / size_y ** 2 + s_c / (2 * lambds))\n",
    "        \n",
    "    a = np.nan_to_num(a)\n",
    "    b = np.nan_to_num(b)\n",
    "\n",
    "\n",
    "    for i in range(1, (len(t))-1) :\n",
    "        alpha[i+1] = b[i] / (c[i] - alpha[i] * a[i])\n",
    "        betha[i+1] = (a[i] * betha[i] + d[i]) / (c[i] - alpha[i] * a[i])\n",
    "    return alpha, betha\n",
    "\n",
    "def initial_cond_trans(current_coord, current_lambdas, betha_last, alpha_last, stage):\n",
    "    if  Y_1 < current_coord <= Y_2: #middle\n",
    "        alph = 1\n",
    "        beth = 0\n",
    "        t = T_RIGHT\n",
    "        if stage == 'start' :\n",
    "            return alph, beth\n",
    "        elif stage == 'end' :\n",
    "            return t\n",
    "        \n",
    "    elif current_coord > Y_2: #5 & 1\n",
    "        alph = 0\n",
    "        beth = 0\n",
    "        t = T_AREA_1\n",
    "        if stage == 'start' :\n",
    "            return alph, beth\n",
    "        elif stage == 'end' :\n",
    "            return t\n",
    "    else:                    #4 & 3\n",
    "        alph = 1\n",
    "        beth = 0\n",
    "        t = 0\n",
    "        if stage == 'start' :\n",
    "            return alph, beth\n",
    "        elif stage == 'end' :\n",
    "            return t\n",
    "\n",
    "        \n",
    "def initial_cond_long(current_coord, current_lambdas, betha_last, alpha_last, stage):\n",
    "    if X_1 <= current_coord < X_2 :   #middle\n",
    "        alph = 0\n",
    "        beth = 0\n",
    "        t = Y_STEP * Q_UP / current_lambdas[0] \n",
    "        if stage == 'start' :\n",
    "            return alph, beth\n",
    "        elif stage == 'end' :\n",
    "            return t\n",
    "        \n",
    "    elif current_coord >= X_2 : #1 & 3\n",
    "        alph = 0\n",
    "        beth = 0\n",
    "        t = T_AREA_1 \n",
    "        if stage == 'start' :\n",
    "            return alph, beth\n",
    "        elif stage == 'end' :\n",
    "            return t\n",
    "    else:                      #4 & 5\n",
    "        alph = 0\n",
    "        beth = 0\n",
    "        t = 0 \n",
    "        if stage == 'start' :\n",
    "            return alph, beth\n",
    "        elif stage == 'end' :\n",
    "            return t\n",
    "def tridiagonal_matrix_algorithm_trans(lambds, t, s_c, s_p):\n",
    "    kind = 'trans'\n",
    "    k = 0\n",
    "  \n",
    "    for k in range(len(y_set) ) :\n",
    "        t_prev = t.copy()\n",
    "        t_trans = t[:, k]\n",
    "        s_c_trans = s_c[:,k]\n",
    "        s_p_trans = s_p[:,k]\n",
    "        \n",
    "        if k == 0 :\n",
    "            lambds_low = lambds[:, 0]\n",
    "            t_trans_low = t_prev[:, 0]\n",
    "        else :\n",
    "            lambds_low = lambds[:, k - 1]\n",
    "            t_trans_low = t_prev[:, k - 1]\n",
    "        try:\n",
    "            t_trans_up = t_prev[:, k+1]\n",
    "            lambds_up = lambds[:, k+1]\n",
    "        except IndexError:\n",
    "            t_trans_up = t_prev[:, k]\n",
    "            lambds_up = lambds[:, k]\n",
    "        alpha = np.zeros(len(t_trans))\n",
    "        betha = np.zeros(len(t_trans))\n",
    "        alpha[1], betha[1]= initial_cond_trans(k, lambds[:, 0], alpha[-1], betha[-1], 'start')\n",
    "        alpha, betha = coef_calc(alpha, betha, kind, lambds[:, 0], t_trans, t_trans_up, t_trans_low, s_c_trans, s_p_trans, lambds_up, lambds_low)\n",
    "        t[-1, k] = initial_cond_trans(k, lambds[:, 0], alpha[-1], betha[-1], 'end')\n",
    "        \n",
    "        for m in reversed(range(0, len(x_set) - 1)):\n",
    "            t[m, k] = alpha[m+1] * t[m+1, k] + betha[m+1]\n",
    "    return t\n",
    "        \n",
    "        \n",
    "    \n",
    "\n",
    "def tridiagonal_matrix_algorithm_long(lambds, t, s_c, s_p):\n",
    "    kind = 'long'\n",
    "    k = 0\n",
    "    for k in range(len(x_set)) :\n",
    "        \n",
    "        t_long = t[k, :]\n",
    "        t_prev = t.copy()\n",
    "        s_c_long = s_c[k,:]\n",
    "        s_p_long = s_p[k,:]\n",
    "        \n",
    "        if k == 0 :\n",
    "            lambds_low = lambds[0, :]\n",
    "            t_long_low = t_prev[0, :]\n",
    "        else :\n",
    "            lambds_low = lambds[k - 1, :]\n",
    "            t_long_low = t_prev[k - 1, :]\n",
    "        try:\n",
    "            t_long_up = t_prev[k + 1, :]\n",
    "            lambds_up = lambds[k + 1, :]\n",
    "        except IndexError:\n",
    "            t_long_up = t_prev[k, :]\n",
    "            lambds_up = lambds[k, :]\n",
    "            \n",
    "        alpha = np.zeros(len(t_long))\n",
    "        betha = np.zeros(len(t_long))\n",
    "        alpha[1], betha[1]= initial_cond_long(k, lambds[0, :], alpha[-1], betha[-1], 'start')\n",
    "        alpha, betha = coef_calc(alpha, betha, kind, lambds[0, :], t_long, t_long_up, t_long_low, s_c_long, s_p_long, lambds_up, lambds_low)\n",
    "        t[k, -1] = initial_cond_long(k, lambds[0, :], alpha[-1], betha[-1], 'end')\n",
    "        \n",
    "        for m in reversed(range(0, len(y_set) - 1)):\n",
    "            t[k, m] = alpha[m+1] * t[k, m+1] + betha[m+1]\n",
    "    return t"
   ]
  },
  {
   "cell_type": "code",
   "execution_count": 16,
   "metadata": {
    "scrolled": true
   },
   "outputs": [
    {
     "data": {
      "application/vnd.jupyter.widget-view+json": {
       "model_id": "0064056dc4b74730b4c8737c81121c56",
       "version_major": 2,
       "version_minor": 0
      },
      "text/plain": [
       "HBox(children=(IntProgress(value=1, bar_style='info', max=1), HTML(value='')))"
      ]
     },
     "metadata": {},
     "output_type": "display_data"
    },
    {
     "name": "stdout",
     "output_type": "stream",
     "text": [
      "\n"
     ]
    }
   ],
   "source": [
    "#Расчет с помощью прогонки\n",
    "with tqdm_notebook() as pbar:\n",
    "    while True:\n",
    "        temp_prev = temp.copy()\n",
    "    \n",
    "        #(lambds, t, s_c, s_p)\n",
    "        temp = tridiagonal_matrix_algorithm_trans(lambda_set, temp, source_c, source_p)\n",
    "        temp = tridiagonal_matrix_algorithm_long(lambda_set, temp, source_c, source_p)\n",
    "        delta_temp = abs(temp_prev - temp)\n",
    "        if np.amax(delta_temp) < 0.1:\n",
    "            break\n",
    "        pbar.update(1)\n",
    "        pbar.refresh()"
   ]
  },
  {
   "cell_type": "code",
   "execution_count": 17,
   "metadata": {},
   "outputs": [
    {
     "data": {
      "image/png": "[encoded data removed]",
      "text/plain": [
       "<Figure size 720x720 with 2 Axes>"
      ]
     },
     "metadata": {},
     "output_type": "display_data"
    }
   ],
   "source": [
    "heatmap2d(temp)"
   ]
  },
  {
   "cell_type": "code",
   "execution_count": 749,
   "metadata": {},
   "outputs": [
    {
     "data": {
      "image/png": "[encoded data removed]",
      "text/plain": [
       "<Figure size 720x720 with 2 Axes>"
      ]
     },
     "metadata": {},
     "output_type": "display_data"
    }
   ],
   "source": [
    "heatmap2d(temp_less)"
   ]
  },
  {
   "cell_type": "code",
   "execution_count": null,
   "metadata": {},
   "outputs": [],
   "source": []
  },
  {
   "cell_type": "code",
   "execution_count": null,
   "metadata": {},
   "outputs": [],
   "source": []
  },
  {
   "cell_type": "code",
   "execution_count": null,
   "metadata": {},
   "outputs": [],
   "source": []
  },
  {
   "cell_type": "code",
   "execution_count": null,
   "metadata": {},
   "outputs": [],
   "source": []
  },
  {
   "cell_type": "markdown",
   "metadata": {},
   "source": [
    "## Для дебага"
   ]
  },
  {
   "cell_type": "code",
   "execution_count": 351,
   "metadata": {
    "scrolled": true
   },
   "outputs": [
    {
     "name": "stdout",
     "output_type": "stream",
     "text": [
      "0.0\n",
      "0.0\n",
      "0.0\n",
      "0.0\n",
      "------\n"
     ]
    }
   ],
   "source": [
    "#Расчет с помощью прогонки\n",
    "temp = np.zeros((len(x_set), len(y_set)))\n",
    "counter = 1\n",
    "\n",
    "while True:\n",
    "    temp_prev = temp.copy()\n",
    "    print(np.min(temp))\n",
    "    \n",
    "    \n",
    "    #(lambds, t, s_c, s_p)\n",
    "    temp = tridiagonal_matrix_algorithm_trans(lambda_set, temp, source_c, source_p)\n",
    "    print(np.min(temp))\n",
    "    \n",
    "    temp = tridiagonal_matrix_algorithm_long(lambda_set, temp, source_c, source_p)\n",
    "    print(np.min(temp))\n",
    "    \n",
    "    delta_temp = abs(temp_prev - temp)\n",
    "    if np.amax(delta_temp) < 0.9:\n",
    "        break\n",
    "    \n",
    "    print(np.min(temp))\n",
    "    print(\"------\")\n",
    "    break"
   ]
  },
  {
   "cell_type": "code",
   "execution_count": 89,
   "metadata": {
    "scrolled": false
   },
   "outputs": [],
   "source": [
    "temp = np.zeros((len(x_set), len(y_set)))\n",
    "\n",
    "lambds = lambda_set\n",
    "t = temp\n",
    "s_c = source_c\n",
    "s_p = source_p\n",
    "\n",
    "# def tridiagonal_matrix_algorithm_long(lambds, t, s_c, s_p):\n",
    "\n",
    "kind = 'long'\n",
    "k = 0\n",
    "for k in range(len(x_set) - 1) :\n",
    "\n",
    "    t_long = t[k, :]\n",
    "    t_prev = t.copy()\n",
    "    s_c_long = s_c[k,:]\n",
    "    s_p_long = s_p[k,:]\n",
    "\n",
    "    if k == 0 :\n",
    "        lambds_low = lambds[0, :]\n",
    "        t_long_low = t_prev[0, :]\n",
    "    else :\n",
    "        lambds_low = lambds[k - 1, :]\n",
    "        t_long_low = t_prev[k - 1, :]\n",
    "    try:\n",
    "        t_long_up = t_prev[k + 1, :]\n",
    "        lambds_up = lambds[k + 1, :]\n",
    "    except IndexError:\n",
    "        t_long_up = t_prev[k, :]\n",
    "        lambds_up = lambds[k, :]\n",
    "\n",
    "    alpha = np.zeros(len(t_long))\n",
    "    betha = np.zeros(len(t_long))\n",
    "    alpha[1], betha[1]= initial_cond_trans(k, lambds[0, :], alpha[-1], betha[-1], 'start')\n",
    "    \n",
    "    if k == 4 :\n",
    "        break\n",
    "    \n",
    "    alpha, betha = coef_calc(alpha, betha, kind, lambds[0, :], t_long, t_long_up, t_long_low, s_c_long, s_p_long, lambds_up, lambds_low)   \n",
    "    \n",
    "    t[k, -1] = initial_cond_trans(k, lambds[0, :], alpha[-1], betha[-1], 'end')    \n",
    "    for m in reversed(range(0, len(t_long) - 1)):\n",
    "        t[k, m] = alpha[m+1] * t[k, m+1] + betha[m+1]\n",
    "    \n",
    "# print(t)"
   ]
  },
  {
   "cell_type": "code",
   "execution_count": 90,
   "metadata": {},
   "outputs": [],
   "source": [
    "alpha = alpha\n",
    "betha = betha\n",
    "kind = kind\n",
    "lambds = lambds[0, :]\n",
    "t = t_long\n",
    "t_up = t_long_up\n",
    "t_low = t_long_low\n",
    "s_c = s_c_long\n",
    "s_p = s_p_long\n",
    "lambds_up = lambds_up\n",
    "lambds_low = lambds_low\n",
    "\n",
    "\n",
    "\n",
    "#lambds - лямбды на оси неизвестных, lambds_up & lambds_low - лямбды выше и ниже (справа и слева)\n",
    "if kind == 'long':\n",
    "    size_x = X_STEP\n",
    "    size_y = Y_STEP\n",
    "\n",
    "elif kind == 'trans':\n",
    "    size_x = Y_STEP\n",
    "    size_y = X_STEP\n",
    "\n",
    "with np.errstate(divide='ignore', invalid='ignore'):\n",
    "    a = np.roll(lambds, 1) / (np.roll(lambds, 1) + lambds) / size_x ** 2\n",
    "    b = np.roll(lambds, -1) / (np.roll(lambds, -1) + lambds) / size_x ** 2             \n",
    "    c = (((np.roll(lambds, -1) + np.roll(lambds, 1)) * lambds + \n",
    "        2 * np.roll(lambds, -1) * np.roll(lambds, 1)) /\n",
    "        (np.roll(lambds, -1) + lambds) / (np.roll(lambds, 1) + lambds) / size_x ** 2 + \n",
    "        ((lambds_up + lambds_low) * lambds + 2 * lambds_up * lambds_low) / (lambds_up + lambds) / \n",
    "        (lambds_low + lambds) / size_y ** 2 + s_p / (2 * lambds)) \n",
    "    d = (lambds_up / (lambds_up + lambds)* t_up / size_y ** 2 + lambds_low/ \n",
    "        (lambds_low + lambds)* t_low / size_y ** 2 + s_c / (2 * lambds))\n",
    "\n",
    "a = np.nan_to_num(a)\n",
    "b = np.nan_to_num(b)\n",
    "c[np.isnan(c)] = 1\n",
    "d[np.isnan(d)] = 0\n",
    "d[np.isinf(d)] = 0\n",
    "\n",
    "for i in range(1, len(t)-1):\n",
    "    alpha[i+1] = b[i] / (c[i] - alpha[i] * a[i])\n",
    "    betha[i+1] = (a[i] * betha[i] + d[i]) / (c[i] - alpha[i] * a[i])\n",
    "    \n",
    "#     if i == 16:\n",
    "#         break"
   ]
  },
  {
   "cell_type": "code",
   "execution_count": 85,
   "metadata": {},
   "outputs": [
    {
     "name": "stdout",
     "output_type": "stream",
     "text": [
      "1.0\n",
      "78.67900208540682\n",
      "inf\n",
      "inf\n",
      "1.0\n"
     ]
    }
   ],
   "source": [
    "i = 17\n",
    "print(a[i])\n",
    "print( betha[i] )\n",
    "print(d[i])\n",
    "print(a[i] * betha[i] + d[i])\n",
    "print(c[i] - alpha[i] * a[i])"
   ]
  },
  {
   "cell_type": "code",
   "execution_count": 91,
   "metadata": {},
   "outputs": [
    {
     "data": {
      "text/plain": [
       "array([0.00000000e+00, 0.00000000e+00, 0.00000000e+00, 0.00000000e+00,\n",
       "       2.45574370e-01, 1.10290847e-01, 4.56381456e-02, 1.86787416e-02,\n",
       "       9.18379891e-03, 9.71147230e-03, 2.27621177e-02, 6.61597522e-02,\n",
       "       1.95917438e-01, 5.73682557e-01, 1.65300834e+00, 4.67908816e+00,\n",
       "       1.30001201e+01, 7.86790021e+01, 7.86790021e+01, 0.00000000e+00])"
      ]
     },
     "execution_count": 91,
     "metadata": {},
     "output_type": "execute_result"
    }
   ],
   "source": [
    "betha"
   ]
  },
  {
   "cell_type": "code",
   "execution_count": null,
   "metadata": {},
   "outputs": [],
   "source": []
  },
  {
   "cell_type": "code",
   "execution_count": null,
   "metadata": {},
   "outputs": [],
   "source": []
  },
  {
   "cell_type": "code",
   "execution_count": null,
   "metadata": {},
   "outputs": [],
   "source": []
  },
  {
   "cell_type": "code",
   "execution_count": 24,
   "metadata": {},
   "outputs": [
    {
     "data": {
      "image/png": "[encoded data removed]",
      "text/plain": [
       "<Figure size 432x288 with 2 Axes>"
      ]
     },
     "metadata": {
      "needs_background": "light"
     },
     "output_type": "display_data"
    }
   ],
   "source": [
    "heatmap2d(temp)"
   ]
  },
  {
   "cell_type": "code",
   "execution_count": null,
   "metadata": {},
   "outputs": [],
   "source": []
  }
 ],
 "metadata": {
  "kernelspec": {
   "display_name": "Python 3",
   "language": "python",
   "name": "python3"
  },
  "language_info": {
   "codemirror_mode": {
    "name": "ipython",
    "version": 3
   },
   "file_extension": ".py",
   "mimetype": "text/x-python",
   "name": "python",
   "nbconvert_exporter": "python",
   "pygments_lexer": "ipython3",
   "version": "3.6.5"
  }
 },
 "nbformat": 4,
 "nbformat_minor": 2
}
